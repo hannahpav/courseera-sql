{
  "nbformat": 4,
  "nbformat_minor": 0,
  "metadata": {
    "colab": {
      "provenance": [],
      "authorship_tag": "ABX9TyNGEAIqfdt2dSBdHViEDXDU",
      "include_colab_link": true
    },
    "kernelspec": {
      "name": "python3",
      "display_name": "Python 3"
    },
    "language_info": {
      "name": "python"
    }
  },
  "cells": [
    {
      "cell_type": "markdown",
      "metadata": {
        "id": "view-in-github",
        "colab_type": "text"
      },
      "source": [
        "<a href=\"https://colab.research.google.com/github/hannahpav/courseera-sql/blob/main/SQL_week1.ipynb\" target=\"_parent\"><img src=\"https://colab.research.google.com/assets/colab-badge.svg\" alt=\"Open In Colab\"/></a>"
      ]
    },
    {
      "cell_type": "code",
      "execution_count": 1,
      "metadata": {
        "id": "Vkce931bqX1h"
      },
      "outputs": [],
      "source": [
        "import sqlite3 as db\n",
        "con = db.connect(\"tutorial.db\")"
      ]
    },
    {
      "cell_type": "code",
      "source": [],
      "metadata": {
        "id": "wYMDxaAYo4BU"
      },
      "execution_count": null,
      "outputs": []
    },
    {
      "cell_type": "code",
      "source": [
        "cur = con.cursor()"
      ],
      "metadata": {
        "id": "bUdo1vFQumik"
      },
      "execution_count": 2,
      "outputs": []
    },
    {
      "cell_type": "code",
      "source": [
        "cur.execute('''CREATE TABLE Shoes\n",
        "(\n",
        "    Id  char(10) PRIMARY KEY,\n",
        "    Brand char(10)  NOT NULL,\n",
        "    Type char(250) NOT NULL,\n",
        "    Color char(250) NOT NULL,\n",
        "    Price decimal(8,2) NOT NULL,\n",
        "    Desc  Varchar(750)  NULL #null values are NOT accepted\n",
        ")''')"
      ],
      "metadata": {
        "colab": {
          "base_uri": "https://localhost:8080/",
          "height": 216
        },
        "id": "86hcBo8wusAH",
        "outputId": "04c5efd2-bd61-4512-c564-90ac8e010d04"
      },
      "execution_count": 9,
      "outputs": [
        {
          "output_type": "error",
          "ename": "OperationalError",
          "evalue": "table Shoes already exists",
          "traceback": [
            "\u001b[0;31m---------------------------------------------------------------------------\u001b[0m",
            "\u001b[0;31mOperationalError\u001b[0m                          Traceback (most recent call last)",
            "\u001b[0;32m<ipython-input-9-12dbdfd11463>\u001b[0m in \u001b[0;36m<cell line: 1>\u001b[0;34m()\u001b[0m\n\u001b[0;32m----> 1\u001b[0;31m cur.execute('''CREATE TABLE Shoes\n\u001b[0m\u001b[1;32m      2\u001b[0m (\n\u001b[1;32m      3\u001b[0m     \u001b[0mId\u001b[0m  \u001b[0mchar\u001b[0m\u001b[0;34m(\u001b[0m\u001b[0;36m10\u001b[0m\u001b[0;34m)\u001b[0m \u001b[0mPRIMARY\u001b[0m \u001b[0mKEY\u001b[0m\u001b[0;34m,\u001b[0m\u001b[0;34m\u001b[0m\u001b[0;34m\u001b[0m\u001b[0m\n\u001b[1;32m      4\u001b[0m     \u001b[0mBrand\u001b[0m \u001b[0mchar\u001b[0m\u001b[0;34m(\u001b[0m\u001b[0;36m10\u001b[0m\u001b[0;34m)\u001b[0m  \u001b[0mNOT\u001b[0m \u001b[0mNULL\u001b[0m\u001b[0;34m,\u001b[0m\u001b[0;34m\u001b[0m\u001b[0;34m\u001b[0m\u001b[0m\n\u001b[1;32m      5\u001b[0m     \u001b[0mType\u001b[0m \u001b[0mchar\u001b[0m\u001b[0;34m(\u001b[0m\u001b[0;36m250\u001b[0m\u001b[0;34m)\u001b[0m \u001b[0mNOT\u001b[0m \u001b[0mNULL\u001b[0m\u001b[0;34m,\u001b[0m\u001b[0;34m\u001b[0m\u001b[0;34m\u001b[0m\u001b[0m\n",
            "\u001b[0;31mOperationalError\u001b[0m: table Shoes already exists"
          ]
        }
      ]
    },
    {
      "cell_type": "code",
      "source": [
        "cur.execute('''INSERT INTO Shoes\n",
        "VALUES('14535974'\n",
        ",'Gucci'\n",
        ",'Slippers'\n",
        ",'Pink'\n",
        ",'695.00'\n",
        ",NULL)''')\n",
        "# takes first value indicated and put in first column\n",
        "# no guarantee of what data in what column"
      ],
      "metadata": {
        "colab": {
          "base_uri": "https://localhost:8080/"
        },
        "id": "YYk6pO_DwCq3",
        "outputId": "15965ea7-fc6b-4365-e27f-51ab1e87ac32"
      },
      "execution_count": 15,
      "outputs": [
        {
          "output_type": "execute_result",
          "data": {
            "text/plain": [
              "<sqlite3.Cursor at 0x7cfdcbd96840>"
            ]
          },
          "metadata": {},
          "execution_count": 15
        }
      ]
    },
    {
      "cell_type": "code",
      "source": [
        "cur.execute(''' INSERT INTO Shoes\n",
        "(ID,\n",
        "Brand,\n",
        "Type,\n",
        "Price,\n",
        "Color)\n",
        "VALUES\n",
        "  ('12345678'\n",
        "  ,'Prada'\n",
        "  ,'Heels'\n",
        "  , '310.93'\n",
        "  ,'Black')\n",
        "''')"
      ],
      "metadata": {
        "colab": {
          "base_uri": "https://localhost:8080/",
          "height": 216
        },
        "id": "b3-LXKPNxgPL",
        "outputId": "fb5773a6-8eeb-4528-de93-c7998e4b7c5a"
      },
      "execution_count": 24,
      "outputs": [
        {
          "output_type": "error",
          "ename": "IntegrityError",
          "evalue": "UNIQUE constraint failed: Shoes.Id",
          "traceback": [
            "\u001b[0;31m---------------------------------------------------------------------------\u001b[0m",
            "\u001b[0;31mIntegrityError\u001b[0m                            Traceback (most recent call last)",
            "\u001b[0;32m<ipython-input-24-cd39fdb5e314>\u001b[0m in \u001b[0;36m<cell line: 1>\u001b[0;34m()\u001b[0m\n\u001b[0;32m----> 1\u001b[0;31m cur.execute(''' INSERT INTO Shoes\n\u001b[0m\u001b[1;32m      2\u001b[0m (ID,\n\u001b[1;32m      3\u001b[0m \u001b[0mBrand\u001b[0m\u001b[0;34m,\u001b[0m\u001b[0;34m\u001b[0m\u001b[0;34m\u001b[0m\u001b[0m\n\u001b[1;32m      4\u001b[0m \u001b[0mType\u001b[0m\u001b[0;34m,\u001b[0m\u001b[0;34m\u001b[0m\u001b[0;34m\u001b[0m\u001b[0m\n\u001b[1;32m      5\u001b[0m \u001b[0mPrice\u001b[0m\u001b[0;34m,\u001b[0m\u001b[0;34m\u001b[0m\u001b[0;34m\u001b[0m\u001b[0m\n",
            "\u001b[0;31mIntegrityError\u001b[0m: UNIQUE constraint failed: Shoes.Id"
          ]
        }
      ]
    },
    {
      "cell_type": "code",
      "source": [
        "cur.execute(''' INSERT INTO Shoes\n",
        "(ID,\n",
        "Brand,\n",
        "Type,\n",
        "Price,\n",
        "Color)\n",
        "VALUES\n",
        "  ('12341378'\n",
        "  ,'Sketchers'\n",
        "  ,'Sandals'\n",
        "  , '33.93'\n",
        "  ,'Green')\n",
        "''')"
      ],
      "metadata": {
        "colab": {
          "base_uri": "https://localhost:8080/",
          "height": 216
        },
        "id": "TdIsttQTyxwr",
        "outputId": "8c9df148-b54c-446e-ecd4-02246436e4bb"
      },
      "execution_count": 26,
      "outputs": [
        {
          "output_type": "error",
          "ename": "IntegrityError",
          "evalue": "UNIQUE constraint failed: Shoes.Id",
          "traceback": [
            "\u001b[0;31m---------------------------------------------------------------------------\u001b[0m",
            "\u001b[0;31mIntegrityError\u001b[0m                            Traceback (most recent call last)",
            "\u001b[0;32m<ipython-input-26-fc9d024996f8>\u001b[0m in \u001b[0;36m<cell line: 1>\u001b[0;34m()\u001b[0m\n\u001b[0;32m----> 1\u001b[0;31m cur.execute(''' INSERT INTO Shoes\n\u001b[0m\u001b[1;32m      2\u001b[0m (ID,\n\u001b[1;32m      3\u001b[0m \u001b[0mBrand\u001b[0m\u001b[0;34m,\u001b[0m\u001b[0;34m\u001b[0m\u001b[0;34m\u001b[0m\u001b[0m\n\u001b[1;32m      4\u001b[0m \u001b[0mType\u001b[0m\u001b[0;34m,\u001b[0m\u001b[0;34m\u001b[0m\u001b[0;34m\u001b[0m\u001b[0m\n\u001b[1;32m      5\u001b[0m \u001b[0mPrice\u001b[0m\u001b[0;34m,\u001b[0m\u001b[0;34m\u001b[0m\u001b[0;34m\u001b[0m\u001b[0m\n",
            "\u001b[0;31mIntegrityError\u001b[0m: UNIQUE constraint failed: Shoes.Id"
          ]
        }
      ]
    },
    {
      "cell_type": "code",
      "source": [
        "con.commit()"
      ],
      "metadata": {
        "id": "1JQ_6dpEyEwY"
      },
      "execution_count": 20,
      "outputs": []
    },
    {
      "cell_type": "code",
      "source": [
        "cur.execute('''CREATE TEMPORARY TABLE Sandals AS\n",
        "     SELECT *\n",
        "     FROM shoes\n",
        "     WHERE Type = 'sandals'\n",
        " ''')"
      ],
      "metadata": {
        "colab": {
          "base_uri": "https://localhost:8080/"
        },
        "id": "0_Ey3s2ayPag",
        "outputId": "cb604ac9-3e96-402e-e31c-4038774fb9e2"
      },
      "execution_count": 29,
      "outputs": [
        {
          "output_type": "execute_result",
          "data": {
            "text/plain": [
              "<sqlite3.Cursor at 0x7cfdcbd96840>"
            ]
          },
          "metadata": {},
          "execution_count": 29
        }
      ]
    },
    {
      "cell_type": "code",
      "source": [
        "a=cur.execute('''SELECT *\n",
        "FROM shoes\n",
        "WHERE Brand == \"Gucci\"''')\n",
        "a.fetchall()"
      ],
      "metadata": {
        "colab": {
          "base_uri": "https://localhost:8080/"
        },
        "id": "V2iz8vQlzQAd",
        "outputId": "7d00d73d-1188-41f4-90cc-1a2ad0b64ec7"
      },
      "execution_count": 44,
      "outputs": [
        {
          "output_type": "execute_result",
          "data": {
            "text/plain": [
              "[('14535974', 'Gucci', 'Slippers', 'Pink', 695, None)]"
            ]
          },
          "metadata": {},
          "execution_count": 44
        }
      ]
    }
  ]
}